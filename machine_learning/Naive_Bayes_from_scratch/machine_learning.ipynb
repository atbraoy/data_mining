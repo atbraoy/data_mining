{
 "cells": [
  {
   "cell_type": "markdown",
   "metadata": {},
   "source": [
    "### Naive Bayes From Scratch\n",
    "The Naive Bayes algorithm uses the probability of each classified attribute (classified here means that this particular attribute belongs to that particular class) in which there is a large number of attributes that belong to number of classes. Naive Bayes uses these probabilities of finding the attribute corresponding class to make predictions. Because we split our data into ratios, namely train set and test set, using this technique in this way is considered a 'supervised learning', i.e. a probabilistic approach for a predictive modelling.\n",
    "The article in wikipedia is a nice simplified [introduction](https://en.wikipedia.org/wiki/Statistics), though you might find better sources out there.\n",
    "\n",
    "In this tutorial, we will step by step build our Naive Bayes model from scratch where we will not use any of those popular libraries, such as 'scikit-learn'. But we will still at the end of the tutorial compare our model prediction accuracy and scoring to that one used by scikit-learn.\n",
    "\n",
    "### The normal distribution apporach\n",
    "\n",
    "We will use the Gaussian probability density function (or the standard normal distribution) with a domain that been stretched by a factor $\\sigma$ (the standard deviation) and then translated by $\\mu$ (the mean value). Or mathematically we can write its relationship in the following format:\n",
    "\n",
    "$\\begin{equation}\n",
    "f(x | \\mu, \\sigma^2) = \\frac{1}{\\sqrt{\\pi\\sigma^2}} e^{\\frac{(x-\\mu)^2}{2\\sigma^2}}\n",
    "\\end{equation}$\n",
    "\n",
    "For sure one can use or come up with a different estimator but I find the use of the standard deviation as it less affected by noise is very convenient, we can measure the deviation from the mean for each attribute without being driven by the noise when averaging.\n",
    "\n",
    "### The process\n",
    "\n",
    "We will follow the steps below to execute this tutorial:\n",
    "\n",
    "* Prepare the Data: Load the data from a file and split it into training and test datasets. One can also load directly from the online database but this should be covered in a different tutorial.\n",
    "* Split the Data: We split our data, using a given ratio, to create our training set and test set.\n",
    "* Classify our Data:  We divide the training data into classes (using the given ones) such that we can associate probabilities with each class.\n",
    "* Build the Model: We use the Gaussian distribution function (equation above) to create our probability calculator. This require to calculate the mean $\\mu$ and the standard deviation $\\sigma$ of each set of attributes and then we associate that with the given classes. \n",
    "* Predict: After training our model we use the outcome (the summary/result of the Gaussian model evaluation for each class), we generate predictions given the test the model outcome.\n",
    "* Measure Accuracy: We check how accurate is our model\n",
    "* Compare Accuracy: We compare the prediction made by our model to that made by 'scikit-learn' model."
   ]
  },
  {
   "cell_type": "code",
   "execution_count": 689,
   "metadata": {},
   "outputs": [],
   "source": [
    "import os, csv, random, math\n",
    "import pandas as pd\n",
    "import numpy as np\n",
    "import matplotlib.pyplot as plt\n",
    "import seaborn as sb\n",
    "\n",
    "from pandas import Series\n",
    "import matplotlib.pyplot as plt"
   ]
  },
  {
   "cell_type": "code",
   "execution_count": 680,
   "metadata": {},
   "outputs": [
    {
     "name": "stdout",
     "output_type": "stream",
     "text": [
      "Loaded data file 'pima-indians-diabetes.csv' with 768 rows\n"
     ]
    }
   ],
   "source": [
    "def load_data(_file, _folder):\n",
    "    _dir = data_dir = os.path.join(\n",
    "    os.path.dirname(os.path.realpath(\"__file__\")), _folder)\n",
    "    file_path = _dir+'/'+_file\n",
    "    data = csv.reader(open(file_path, \"rb\"))\n",
    "    dataset = list(data)\n",
    "    for line in range(len(dataset)):\n",
    "        dataset[line] = [float(x) for x in dataset[line]] \n",
    "    dataset = dataset[:-1]\n",
    "    \n",
    "    return _file, dataset \n",
    "    \n",
    "_file, dataset = load_data('pima-indians-diabetes.csv', 'data')\n",
    "print(\"Loaded data file '{0}' with {1} rows\").format(_file, len(dataset))"
   ]
  },
  {
   "cell_type": "code",
   "execution_count": 681,
   "metadata": {},
   "outputs": [
    {
     "name": "stdout",
     "output_type": "stream",
     "text": [
      "Training set size is 529 while test set size is 239. Split ratio 69.0%\n"
     ]
    }
   ],
   "source": [
    "# It is important to randomly shuffle the data when producing the training and test sets. \n",
    "def split_data(dataset, split_ratio):\n",
    "    train_size = int(len(dataset)*split_ratio)\n",
    "    train_set = []\n",
    "    data = list(dataset)\n",
    "    while len(train_set) < train_size:\n",
    "        index = random.randrange(len(data))\n",
    "        train_set.append(data.pop(index))\n",
    "    \n",
    "    return [train_set, data]\n",
    "\n",
    "# and let's test it to see if it can shuffle randomly\n",
    "split_ratio = 0.69\n",
    "train_set, test_set = split_data(dataset, split_ratio)\n",
    "print 'Training set size is {0} while test set size is {1}. Split ratio {2}%'.format(len(train_set), \n",
    "                                                                                     len(test_set), \n",
    "                                                                                    split_ration*100)"
   ]
  },
  {
   "cell_type": "code",
   "execution_count": 682,
   "metadata": {},
   "outputs": [
    {
     "name": "stdout",
     "output_type": "stream",
     "text": [
      "Classified instances (dummy data): {0.0: [[1.0, 85.0, 66.0, 29.0, 0.0, 26.6, 0.351, 31.0, 0.0], [1.0, 89.0, 66.0, 23.0, 94.0, 28.1, 0.167, 21.0, 0.0], [5.0, 116.0, 74.0, 0.0, 0.0, 25.6, 0.201, 30.0, 0.0]], 1.0: [[6.0, 148.0, 72.0, 35.0, 0.0, 33.6, 0.627, 50.0, 1.0], [8.0, 183.0, 64.0, 0.0, 0.0, 23.3, 0.672, 32.0, 1.0], [0.0, 137.0, 40.0, 35.0, 168.0, 43.1, 2.288, 33.0, 1.0], [3.0, 78.0, 50.0, 32.0, 88.0, 31.0, 0.248, 26.0, 1.0]]}\n",
      "------------------------------\n",
      "Classified instances (real data): {0.0: [[5.0, 155.0, 84.0, 44.0, 545.0, 38.7, 0.619, 34.0, 0.0], [2.0, 122.0, 52.0, 43.0, 158.0, 36.2, 0.816, 28.0, 0.0], [4.0, 90.0, 0.0, 0.0, 0.0, 28.0, 0.61, 31.0, 0.0], [1.0, 71.0, 62.0, 0.0, 0.0, 21.8, 0.416, 26.0, 0.0], [7.0, 133.0, 84.0, 0.0, 0.0, 40.2, 0.696, 37.0, 0.0], [0.0, 100.0, 70.0, 26.0, 50.0, 30.8, 0.597, 21.0, 0.0], [3.0, 96.0, 56.0, 34.0, 115.0, 24.7, 0.944, 39.0, 0.0]], 1.0: [[10.0, 168.0, 74.0, 0.0, 0.0, 38.0, 0.537, 34.0, 1.0], [4.0, 144.0, 82.0, 32.0, 0.0, 38.5, 0.554, 37.0, 1.0], [5.0, 0.0, 80.0, 32.0, 0.0, 41.0, 0.346, 37.0, 1.0]]}\n"
     ]
    }
   ],
   "source": [
    "\"\"\"Classifications: a simple scenario that we take each vector from our dataset (i.e. row by row) and \n",
    "and test it against our argument of classification: the vectors that contain large number of elements that are a like\n",
    "will be put in same class, and so on\"\"\"\n",
    "\n",
    "def classify_data(dataset):\n",
    "    _class = {}\n",
    "    for x in range(len(dataset)):\n",
    "        _row = dataset[x]\n",
    "        if (_row[-1] not in _class): \n",
    "            #[-1] means takes the last element and classify accordingly\n",
    "            # the reason of that because our 'class:0,1' is at the end of the row\n",
    "            _class[_row[-1]] = []\n",
    "        _class[_row[-1]].append(_row)\n",
    "    \n",
    "    return _class\n",
    "\n",
    "# Let's test it\n",
    "\n",
    "data = [[6.0, 148.0, 72.0, 35.0, 0.0, 33.6, 0.627, 50.0, 1.0], \n",
    "        [1.0, 85.0, 66.0, 29.0, 0.0, 26.6, 0.351, 31.0, 0.0], \n",
    "        [8.0, 183.0, 64.0, 0.0, 0.0, 23.3, 0.672, 32.0, 1.0], \n",
    "        [1.0, 89.0, 66.0, 23.0, 94.0, 28.1, 0.167, 21.0, 0.0], \n",
    "        [0.0, 137.0, 40.0, 35.0, 168.0, 43.1, 2.288, 33.0, 1.0], \n",
    "        [5.0, 116.0, 74.0, 0.0, 0.0, 25.6, 0.201, 30.0, 0.0], \n",
    "        [3.0, 78.0, 50.0, 32.0, 88.0, 31.0, 0.248, 26.0, 1.0]]\n",
    "class_data = classify_data(data)\n",
    "print('Classified instances (dummy data): {0}').format(class_data) \n",
    "print '-'*30\n",
    "class_data = classify_data(train_set[:10]) # print small portion\n",
    "print('Classified instances (real data): {0}').format(class_data) "
   ]
  },
  {
   "cell_type": "code",
   "execution_count": 683,
   "metadata": {},
   "outputs": [
    {
     "name": "stdout",
     "output_type": "stream",
     "text": [
      "Attributes: [5.0, 155.0, 84.0, 44.0, 545.0, 38.7, 0.619, 34.0], summary: mean=100.702111111, stdev=173.728536991\n",
      "Attributes: [2.0, 122.0, 52.0, 43.0, 158.0, 36.2, 0.816, 28.0], summary: mean=49.1128888889, stdev=55.6680150096\n",
      "Attributes: [10.0, 168.0, 74.0, 0.0, 0.0, 38.0, 0.537, 34.0], summary: mean=36.1707777778, stdev=55.4823867137\n",
      "Attributes: [4.0, 90.0, 0.0, 0.0, 0.0, 28.0, 0.61, 31.0], summary: mean=17.0677777778, stdev=30.0823676669\n",
      "Attributes: [4.0, 144.0, 82.0, 32.0, 0.0, 38.5, 0.554, 37.0], summary: mean=37.6726666667, stdev=48.1916597971\n",
      "Attributes: [1.0, 71.0, 62.0, 0.0, 0.0, 21.8, 0.416, 26.0], summary: mean=20.2462222222, stdev=28.1696366403\n",
      "Attributes: [7.0, 133.0, 84.0, 0.0, 0.0, 40.2, 0.696, 37.0], summary: mean=33.544, stdev=46.9743613474\n",
      "Attributes: [0.0, 100.0, 70.0, 26.0, 50.0, 30.8, 0.597, 21.0], summary: mean=33.1552222222, stdev=34.5915046716\n",
      "Attributes: [3.0, 96.0, 56.0, 34.0, 115.0, 24.7, 0.944, 39.0], summary: mean=40.9604444444, stdev=41.4942150399\n",
      "Attributes: [5.0, 0.0, 80.0, 32.0, 0.0, 41.0, 0.346, 37.0], summary: mean=21.8162222222, stdev=27.8760464995\n"
     ]
    }
   ],
   "source": [
    "\"\"\"Here are estimation tools, the mean and the standard deviation\"\"\"\n",
    "def mean(enteries):\n",
    "    enteries = enteries#[:-1]\n",
    "    mean = sum(enteries)/float(len(enteries))\n",
    "    #print mean\n",
    "    \n",
    "    return mean\n",
    "\n",
    "def stdev(enteries):\n",
    "    enteries = enteries#[:-1]\n",
    "    _mean = mean(enteries)\n",
    "    variance = sum([pow(x-_mean,2) for x in enteries])/float(len(enteries)-1)\n",
    "    _stdev = math.sqrt(variance)\n",
    "    \n",
    "    return _stdev\n",
    "\n",
    "# Do the test on real data\n",
    "for i in train_set[:10]: \n",
    "    print('Attributes: {0}, summary: mean={1}, stdev={2}').format(i[:-1], mean(i), stdev(i))"
   ]
  },
  {
   "cell_type": "code",
   "execution_count": 684,
   "metadata": {},
   "outputs": [
    {
     "name": "stdout",
     "output_type": "stream",
     "text": [
      "Attribute summaries: [(3.896030245746692, 3.347681712404614), (121.5538752362949, 31.432609326667258), (69.84120982986768, 18.928126699484032), (20.862003780718336, 16.08293646134567), (81.468809073724, 120.41298674792654), (32.35595463137996, 7.477603395700552), (0.484026465028355, 0.3324050320901923), (33.7069943289225, 12.094763464385629)]\n"
     ]
    }
   ],
   "source": [
    "\"\"\" Let's put the training data, after measuring the mean and standard deviation, into summary class, such that we \n",
    "will have [(mean_1, stdev_1), ... (mean_n, stdev_n)]\"\"\"\n",
    "def summary_data(dataset):\n",
    "    summary = [(mean(attribute), stdev(attribute)) for attribute in zip(*dataset)]\n",
    "    del summary[-1]\n",
    "    \n",
    "    return summary\n",
    "\n",
    "# Test it:\n",
    "split_ratio = 0.69\n",
    "train_set, test_set = split_data(dataset, split_ratio)\n",
    "summary = summary_data(train_set)\n",
    "print('Attribute summaries: {0}').format(summary)"
   ]
  },
  {
   "cell_type": "code",
   "execution_count": 685,
   "metadata": {},
   "outputs": [
    {
     "name": "stdout",
     "output_type": "stream",
     "text": [
      "Data sorted by class value: {0.0: [(3.5148809523809526, 3.1127688855806683), (111.05654761904762, 26.381128804520685), (69.06845238095238, 18.01404307881734), (19.476190476190474, 14.773898880484277), (70.99404761904762, 107.26621907901938), (30.544940476190497, 7.51957671855917), (0.4403750000000002, 0.3048118614744551), (32.11011904761905, 12.300094113854009)], 1.0: [(4.5595854922279795, 3.6354481375233183), (139.82901554404145, 31.211422648019404), (71.18652849740933, 20.400838036056307), (23.27461139896373, 17.9240942349977), (99.70466321243524, 138.82040566942783), (35.50880829015544, 6.274997935717931), (0.5600207253886009, 0.36415275467156316), (36.487046632124354, 11.228270128846908)]}\n"
     ]
    }
   ],
   "source": [
    "\"\"\" separat the training dataset into instances grouped by class, \n",
    "then calculate the summaries (which decrib the mean and stdev, from above fucntion) for each attribute\n",
    "this should give {class: (mean, stdev)} such that: \n",
    "{0: [(m1, st1), (m2, st2), ...], 1: [(m1, st1), (m2, st2), ...]}\n",
    "\"\"\"\n",
    "def sort_data(dataset):\n",
    "    separated = classify_data(dataset)\n",
    "    classes = {}\n",
    "    for classValue, instances in separated.iteritems():\n",
    "        classes[classValue] = summary_data(instances)\n",
    "    \n",
    "    return classes\n",
    "\n",
    "sorted_data = sort_data(train_set)\n",
    "print('Data sorted by class value: {0}').format(sorted_data)"
   ]
  },
  {
   "cell_type": "markdown",
   "metadata": {},
   "source": [
    "### Predict\n",
    "\n",
    "All that being given, we are now ready to carry our predictions using the training set. The process is now simple, we just need to allow for this scenario: calculate the probability that a given set of attributes will belong to a specific class, then we mark the class with the highest probability scor as our prediction.\n",
    "* In steps:\n",
    "    *  Calculate Gaussian Probability Density Function per class:  $\\begin{equation}\n",
    "f(x | \\mu, \\sigma^2) = \\frac{1}{\\sqrt{\\pi\\sigma^2}} e^{\\frac{(x-\\mu)^2}{2\\sigma^2}}\n",
    "\\end{equation}$\n",
    "    * Calculate all the probabilities for all classes\n",
    "    * Predict\n",
    "    * Measure the model accuracy"
   ]
  },
  {
   "cell_type": "code",
   "execution_count": 677,
   "metadata": {},
   "outputs": [
    {
     "name": "stdout",
     "output_type": "stream",
     "text": [
      "Probability of a class: 6.24896575937%\n"
     ]
    }
   ],
   "source": [
    "def gaussian_estimator(x, mean, stdev):\n",
    "    base = math.exp(-(math.pow(x-mean,2)/(2*math.pow(stdev,2))))\n",
    "    estimator = (1 / (math.sqrt(2*math.pi) * stdev)) * base\n",
    "    \n",
    "    return estimator\n",
    "\n",
    "\n",
    "x = 71.5\n",
    "mean = 73\n",
    "stdev = 6.2\n",
    "probability = gaussian_estimator(x, mean, stdev)\n",
    "print(r'Probability of a class: {}%').format(probability*100)"
   ]
  },
  {
   "cell_type": "code",
   "execution_count": 686,
   "metadata": {},
   "outputs": [
    {
     "name": "stdout",
     "output_type": "stream",
     "text": [
      "Attribute's probability: {0.0: 1.9506430333453937e-12, 1.0: 7.419345510041925e-14}\n",
      "Attribute's probability: {0.0: 1.2432793483069351e-12, 1.0: 9.940302345773262e-14}\n",
      "Attribute's probability: {0.0: 1.1348896096922627e-16, 1.0: 3.146633902980289e-16}\n",
      "Attribute's probability: {0.0: 1.3982761185741557e-17, 1.0: 8.647413428474389e-21}\n",
      "Attribute's probability: {0.0: 1.3703695851041511e-13, 1.0: 3.3221870466496183e-13}\n",
      "Attribute's probability: {0.0: 2.035544995463983e-12, 1.0: 5.4481116673591565e-14}\n",
      "Attribute's probability: {0.0: 2.0080466282052934e-13, 1.0: 4.9565980214598286e-15}\n",
      "Attribute's probability: {0.0: 3.6346855459499465e-13, 1.0: 4.1860561689690756e-14}\n",
      "Attribute's probability: {0.0: 1.1532382322785456e-12, 1.0: 4.768151536648472e-14}\n",
      "Attribute's probability: {0.0: 2.0823488715067131e-19, 1.0: 6.588771291058492e-23}\n"
     ]
    }
   ],
   "source": [
    "def class_probability(train, test):\n",
    "    probabilities = {}\n",
    "    for target, vector in train.iteritems():\n",
    "        probabilities[target] = 1 # we need to have initial value here.\n",
    "        for i in range(len(vector)):\n",
    "            mean, stdev = vector[i]\n",
    "            x = test[i]\n",
    "            probabilities[target] *= gaussian_estimator(x, mean, stdev)\n",
    "            \n",
    "    return probabilities\n",
    "\n",
    "# Let's put our probability calculator for a test \n",
    "for i in range(len(test_set[:10])):\n",
    "    probabilities = class_probability(sorted_data, test_set[i])\n",
    "    print(\"Attribute's probability: {0}\" ).format(probabilities)"
   ]
  },
  {
   "cell_type": "code",
   "execution_count": 687,
   "metadata": {},
   "outputs": [
    {
     "name": "stdout",
     "output_type": "stream",
     "text": [
      "Predictions: ['A', 'B']\n",
      "------------------------------\n",
      "Predictions: [0.0, 1.0, 0.0, 1.0]\n",
      "------------------------------\n",
      "Predictions, updated: ['A', 'B', 'B', 'A']\n",
      "------------------------------\n",
      "Predictions (real data): [1.0, 1.0, 1.0, 0.0, 1.0, 0.0, 0.0, 1.0, 1.0, 1.0]\n"
     ]
    }
   ],
   "source": [
    "def predict(train_set, test_set):\n",
    "    predictions = []\n",
    "    for i in range(len(test_set)):\n",
    "        probabilities = class_probability(train_set, test_set[i])\n",
    "        _class, _prob = None, -1\n",
    "        for Class, probability in probabilities.iteritems():\n",
    "            if _class is None or probability > _prob:\n",
    "                _prob = probability\n",
    "                _class = Class\n",
    "        predictions.append(_class)\n",
    "    return predictions\n",
    "\n",
    "\n",
    "train = {'A':[(1, 0.5)], 'B':[(20, 5.0)]}\n",
    "test = [[1.1, '?'], [19.1, '?']]\n",
    "predictions = predict(train, test)\n",
    "print('Predictions: {0}').format(predictions)\n",
    "print'-'*30\n",
    "train_set = sort_data(data)\n",
    "test_set = [[1.0, 85.0, 66.0, 29.0, 0.0, 26.6, 0.351, 31.0,'?'],\n",
    "            [6.0, 148.0, 72.0, 35.0, 0.0, 33.6, 0.627, 50.0, '?'], \n",
    "        [5.0, 116.0, 74.0, 0.0, 0.0, 25.6, 0.201, 30.0, '?'], \n",
    "        [3.0, 78.0, 50.0, 32.0, 88.0, 31.0, 0.248, 26.0, '?']]\n",
    "predictions = predict(train_set, test_set)\n",
    "print('Predictions: {0}').format(predictions)\n",
    "print'-'*30\n",
    "\n",
    "# Change the '0,1' class to different labels 'A,B' and see if our predictions will also change:\n",
    "train_set.update(train)\n",
    "predictions = predict(train_set, test_set)\n",
    "print('Predictions, updated: {0}').format(predictions)\n",
    "\n",
    "print '-'*30\n",
    "# Let's test the real data\n",
    "train_set, test_set = split_data(dataset, 0.69)\n",
    "training = sort_data(train_set[:10])\n",
    "predictions = predict(training, test_set[:10])\n",
    "print('Predictions (real data): {0}').format(predictions)"
   ]
  },
  {
   "cell_type": "markdown",
   "metadata": {},
   "source": [
    "###  Calculate the accuracy\n"
   ]
  },
  {
   "cell_type": "code",
   "execution_count": 794,
   "metadata": {},
   "outputs": [
    {
     "name": "stdout",
     "output_type": "stream",
     "text": [
      "Accuracy of our model reads: 75.7322175732\n",
      "---------------------------------------------\n"
     ]
    },
    {
     "data": {
      "image/png": "[encoded data removed]",
      "text/plain": [
       "<matplotlib.figure.Figure at 0x10de0f150>"
      ]
     },
     "metadata": {},
     "output_type": "display_data"
    }
   ],
   "source": [
    "%matplotlib inline\n",
    "def accuracy(test_set, predictions):\n",
    "    correct = 0\n",
    "    for x in range(len(testSet)):\n",
    "        if test_set[x][-1] == predictions[x]:\n",
    "            correct += 1\n",
    "    accurate = (correct/float(len(test_set))) * 100.0\n",
    "    \n",
    "    return accurate\n",
    "\n",
    "train_set, test_set = split_data(dataset, 0.69)\n",
    "training = sort_data(train_set)\n",
    "\n",
    "predictions = predict(training, test_set)\n",
    "accuracy = accuracy(test_set, predictions)\n",
    "print('Accuracy of our model reads: {0}').format(accuracy)\n",
    "print '-'*45\n",
    "\n",
    "#------------------------ Plotting:\n",
    "p_samples = Series(predictions)\n",
    "p_counts = p_samples.value_counts()\n",
    "t_sample = [item[-1] for item in test_set]\n",
    "t_samples = Series(t_sample[:len(predictions)])\n",
    "t_counts = t_samples.value_counts()\n",
    "\n",
    "f, ax = plt.subplots(1, figsize=(10,7))\n",
    "bar_width = 0.75\n",
    "tick_pos = [i+(bar_width/2) for i in ind]\n",
    "\n",
    "ax.bar(ind, p_counts, width=bar_width, label='Our model', alpha=0.5, color='blue')\n",
    "ax.bar(ind, t_counts, width=bar_width, label='Real', alpha=0.5, color='green')\n",
    "\n",
    "# Set the label and legends\n",
    "ax.set_ylabel(\"Total counts\", fontsize=15)\n",
    "ax.set_xlabel(\"Test Class\", fontsize=15)\n",
    "ax.set_axis_bgcolor('white')\n",
    "\n",
    "plt.legend(loc='upper right')\n",
    "plt.xticks(tick_pos, ['Negative', 'Positive'])\n",
    "plt.title('Comparing diabetes real classes counts to our model prediction', fontsize=17)\n",
    "# Set a buffer around the edge\n",
    "plt.xlim([min(tick_pos)-bar_width, max(tick_pos)+bar_width])\n",
    "plt.show()"
   ]
  },
  {
   "cell_type": "code",
   "execution_count": 795,
   "metadata": {},
   "outputs": [
    {
     "name": "stdout",
     "output_type": "stream",
     "text": [
      "accuracy generated by scikit-learn: 74.7169811321%\n",
      "accuracy generated by our model: 75.7322175732%\n",
      "---------------------------------------------\n",
      "scikit-learn model score:  0.583018867925\n",
      "our model score:  0.569037656904\n",
      "---------------------------------------------\n"
     ]
    },
    {
     "data": {
      "image/png": "[encoded data removed]",
      "text/plain": [
       "<matplotlib.figure.Figure at 0x1119d3150>"
      ]
     },
     "metadata": {},
     "output_type": "display_data"
    }
   ],
   "source": [
    "from sklearn.cross_validation import train_test_split\n",
    "from sklearn.naive_bayes import GaussianNB\n",
    "\n",
    "features = [item[:-1] for item in dataset]\n",
    "target = [item[-1] for item in dataset]\n",
    "features_train, features_test, target_train, target_test = train_test_split(features, target, test_size = 0.69, random_state = 10)  \n",
    "\n",
    "#print len(features_train), len(features_test), len(target_train), len(target_test)\n",
    "\n",
    "clf = GaussianNB()\n",
    "clf.fit(features_train, target_train)\n",
    "target_pred = clf.predict(features_test)\n",
    "#print target_pred\n",
    "sci_accuracy = accuracy_score(target_test, target_pred, normalize = True)\n",
    "print 'accuracy generated by scikit-learn: {}%'.format(sci_accuracy * 100)\n",
    "\n",
    "# predictions = predict(training, test_set)\n",
    "# accuracy = accuracy(test_set, predictions)\n",
    "print('accuracy generated by our model: {0}%').format(accuracy)\n",
    "\n",
    "\n",
    "\n",
    "from sklearn.metrics import accuracy_score\n",
    "real = []\n",
    "for i in test_set:\n",
    "    for j in range(len(i)):\n",
    "        x = i[-1]\n",
    "        real.append(x)\n",
    "print '-'*45 \n",
    "print 'scikit-learn model score: ', accuracy_score(real[:len(target_pred)], target_pred)\n",
    "print 'our model score: ', accuracy_score(real[:len(predictions)], predictions)\n",
    "print '-'*45\n",
    "\n",
    "#------------------------ Plotting:\n",
    "p_samples = Series(target_pred)\n",
    "p_counts = p_samples.value_counts()\n",
    "t_sample = [item[-1] for item in test_set]\n",
    "t_samples = Series(t_sample[:len(target_pred)])\n",
    "t_counts = t_samples.value_counts()\n",
    "\n",
    "f, ax = plt.subplots(1, figsize=(10,7))\n",
    "bar_width = 0.75\n",
    "tick_pos = [i+(bar_width/2) for i in ind]\n",
    "\n",
    "ax.bar(ind, p_counts, width=bar_width, label='scikit-learn model', alpha=0.5, color='blue')\n",
    "ax.bar(ind, t_counts, width=bar_width, label='Real', alpha=0.5, color='green')\n",
    "\n",
    "# Set the label and legends\n",
    "ax.set_ylabel(\"Total counts\", fontsize=15)\n",
    "ax.set_xlabel(\"Test Class\", fontsize=15)\n",
    "ax.set_axis_bgcolor('white')\n",
    "\n",
    "plt.legend(loc='upper right')\n",
    "plt.xticks(tick_pos, ['Negative', 'Positive'])\n",
    "plt.title('Comparing diabetes real classes counts to scikit-learn model prediction', fontsize=17)\n",
    "# Set a buffer around the edge\n",
    "plt.xlim([min(tick_pos)-bar_width, max(tick_pos)+bar_width])\n",
    "plt.show()"
   ]
  },
  {
   "cell_type": "code",
   "execution_count": null,
   "metadata": {
    "collapsed": true
   },
   "outputs": [],
   "source": []
  }
 ],
 "metadata": {
  "kernelspec": {
   "display_name": "Python 2",
   "language": "python",
   "name": "python2"
  },
  "language_info": {
   "codemirror_mode": {
    "name": "ipython",
    "version": 2
   },
   "file_extension": ".py",
   "mimetype": "text/x-python",
   "name": "python",
   "nbconvert_exporter": "python",
   "pygments_lexer": "ipython2",
   "version": "2.7.13"
  }
 },
 "nbformat": 4,
 "nbformat_minor": 2
}
