{
 "cells": [
  {
   "cell_type": "markdown",
   "metadata": {},
   "source": [
    "### Naive Bayes From Scratch\n",
    "The Naive Bayes algorithm uses the probability of each classified attribute (classified here means that this particular attribute belongs to that particular class) in which there is a large number of attributes that belong to number of classes. Naive Bayes uses these probabilities of finding the attribute corresponding class to make predictions. Because we split our data into ratios, namely train set and test set, using this technique in this way is considered a 'supervised learning', i.e. a probabilistic approach for a predictive modelling.\n",
    "The article in wikipedia is a nice simplified [introduction](https://en.wikipedia.org/wiki/Statistics), though you might find better sources out there.\n",
    "\n",
    "In this tutorial, we will step by step build our Naive Bayes model from scratch where we will not use any of those popular libraries, such as 'scikit-learn'. But we will still at the end of the tutorial compare our model prediction accuracy and scoring to that one used by scikit-learn.\n",
    "\n",
    "### The normal distribution apporach\n",
    "\n",
    "We will use the Gaussian probability density function (or the standard normal distribution) with a domain that been stretched by a factor $\\sigma$ (the standard deviation) and then translated by $\\mu$ (the mean value). Or mathematically we can write its relationship in the following format:\n",
    "\n",
    "$\\begin{equation}\n",
    "f(x | \\mu, \\sigma^2) = \\frac{1}{\\sqrt{\\pi\\sigma^2}} e^{\\frac{(x-\\mu)^2}{2\\sigma^2}}\n",
    "\\end{equation}$\n",
    "\n",
    "For sure one can use or come up with a different estimator but I find the use of the standard deviation as it less affected by noise is very convenient, we can measure the deviation from the mean for each attribute without being driven by the noise when averaging.\n",
    "\n",
    "### The process\n",
    "\n",
    "We will follow the steps below to execute this tutorial:\n",
    "\n",
    "* Prepare the Data: Load the data from a file and split it into training and test datasets. One can also load directly from the online database but this should be covered in a different tutorial.\n",
    "* Split the Data: We split our data, using a given ratio, to create our training set and test set.\n",
    "* Classify our Data:  We divide the training data into classes (using the given ones) such that we can associate probabilities with each class.\n",
    "* Build the Model: We use the Gaussian distribution function (equation above) to create our probability calculator. This require to calculate the mean $\\mu$ and the standard deviation $\\sigma$ of each set of attributes and then we associate that with the given classes. \n",
    "* Predict: After training our model we use the outcome (the summary/result of the Gaussian model evaluation for each class), we generate predictions given the test the model outcome.\n",
    "* Measure Accuracy: We check how accurate is our model\n",
    "* Compare Accuracy: We compare the prediction made by our model to that made by 'scikit-learn' model."
   ]
  },
  {
   "cell_type": "code",
   "execution_count": 86,
   "metadata": {},
   "outputs": [],
   "source": [
    "import os, csv, random, math\n",
    "import pandas as pd\n",
    "import numpy as np\n",
    "import matplotlib.pyplot as plt\n",
    "import seaborn as sb\n",
    "\n",
    "from pandas import Series\n",
    "import matplotlib.pyplot as plt\n",
    "\n",
    "from sklearn.metrics import accuracy_score"
   ]
  },
  {
   "cell_type": "code",
   "execution_count": 184,
   "metadata": {},
   "outputs": [
    {
     "name": "stdout",
     "output_type": "stream",
     "text": [
      "Loaded data file 'pima-indians-diabetes.csv' with 768 rows\n"
     ]
    }
   ],
   "source": [
    "def load_data(_file, _folder):\n",
    "    _dir = data_dir = os.path.join(\n",
    "    os.path.dirname(os.path.realpath(\"__file__\")), _folder)\n",
    "    file_path = _dir+'/'+_file\n",
    "    data = csv.reader(open(file_path, \"rb\"))\n",
    "    dataset = list(data)\n",
    "    for line in range(len(dataset)):\n",
    "        dataset[line] = [float(x) for x in dataset[line]] \n",
    "    dataset = dataset[:-1]\n",
    "    \n",
    "    return _file, dataset \n",
    "    \n",
    "_file, dataset = load_data('pima-indians-diabetes.csv', 'data')\n",
    "print(\"Loaded data file '{0}' with {1} rows\").format(_file, len(dataset))"
   ]
  },
  {
   "cell_type": "code",
   "execution_count": 187,
   "metadata": {},
   "outputs": [
    {
     "name": "stdout",
     "output_type": "stream",
     "text": [
      "Training set size is 522 while test set size is 246. Split ratio 68.0%\n"
     ]
    }
   ],
   "source": [
    "# It is important to randomly shuffle the data when producing the training and test sets. \n",
    "def split_data(dataset, split_ratio):\n",
    "    train_size = int(len(dataset)*split_ratio)\n",
    "    train_set = []\n",
    "    data = list(dataset)\n",
    "    while len(train_set) < train_size:\n",
    "        index = random.randrange(len(data))\n",
    "        train_set.append(data.pop(index))\n",
    "    \n",
    "    return [train_set, data]\n",
    "\n",
    "# and let's test it to see if it can shuffle randomly\n",
    "split_ratio = 0.68\n",
    "train_set, test_set = split_data(dataset, split_ratio)\n",
    "print 'Training set size is {0} while test set size is {1}. Split ratio {2}%'.format(len(train_set), \n",
    "                                                                                     len(test_set), \n",
    "                                                                                    split_ratio*100)"
   ]
  },
  {
   "cell_type": "code",
   "execution_count": 188,
   "metadata": {},
   "outputs": [
    {
     "name": "stdout",
     "output_type": "stream",
     "text": [
      "Classified instances (dummy data): {0.0: [[1.0, 85.0, 66.0, 29.0, 0.0, 26.6, 0.351, 31.0, 0.0], [1.0, 89.0, 66.0, 23.0, 94.0, 28.1, 0.167, 21.0, 0.0], [5.0, 116.0, 74.0, 0.0, 0.0, 25.6, 0.201, 30.0, 0.0]], 1.0: [[6.0, 148.0, 72.0, 35.0, 0.0, 33.6, 0.627, 50.0, 1.0], [8.0, 183.0, 64.0, 0.0, 0.0, 23.3, 0.672, 32.0, 1.0], [0.0, 137.0, 40.0, 35.0, 168.0, 43.1, 2.288, 33.0, 1.0], [3.0, 78.0, 50.0, 32.0, 88.0, 31.0, 0.248, 26.0, 1.0]]}\n",
      "------------------------------\n",
      "Classified instances (real data): {0.0: [[4.0, 189.0, 110.0, 31.0, 0.0, 28.5, 0.68, 37.0, 0.0], [0.0, 94.0, 70.0, 27.0, 115.0, 43.5, 0.347, 21.0, 0.0], [3.0, 126.0, 88.0, 41.0, 235.0, 39.3, 0.704, 27.0, 0.0], [4.0, 147.0, 74.0, 25.0, 293.0, 34.9, 0.385, 30.0, 0.0], [0.0, 135.0, 94.0, 46.0, 145.0, 40.6, 0.284, 26.0, 0.0], [2.0, 109.0, 92.0, 0.0, 0.0, 42.7, 0.845, 54.0, 0.0], [2.0, 107.0, 74.0, 30.0, 100.0, 33.6, 0.404, 23.0, 0.0]], 1.0: [[7.0, 187.0, 50.0, 33.0, 392.0, 33.9, 0.826, 34.0, 1.0], [4.0, 109.0, 64.0, 44.0, 99.0, 34.8, 0.905, 26.0, 1.0], [4.0, 136.0, 70.0, 0.0, 0.0, 31.2, 1.182, 22.0, 1.0]]}\n"
     ]
    }
   ],
   "source": [
    "\"\"\"Classifications: a simple scenario that we take each vector from our dataset (i.e. row by row) and \n",
    "and test it against our argument of classification: the vectors that contain large number of elements that are a like\n",
    "will be put in same class, and so on\"\"\"\n",
    "\n",
    "def classify_data(dataset):\n",
    "    _class = {}\n",
    "    for x in range(len(dataset)):\n",
    "        _row = dataset[x]\n",
    "        if (_row[-1] not in _class): \n",
    "            #[-1] means takes the last element and classify accordingly\n",
    "            # the reason of that because our 'class:0,1' is at the end of the row\n",
    "            _class[_row[-1]] = []\n",
    "        _class[_row[-1]].append(_row)\n",
    "    \n",
    "    return _class\n",
    "\n",
    "# Let's test it\n",
    "\n",
    "data = [[6.0, 148.0, 72.0, 35.0, 0.0, 33.6, 0.627, 50.0, 1.0], \n",
    "        [1.0, 85.0, 66.0, 29.0, 0.0, 26.6, 0.351, 31.0, 0.0], \n",
    "        [8.0, 183.0, 64.0, 0.0, 0.0, 23.3, 0.672, 32.0, 1.0], \n",
    "        [1.0, 89.0, 66.0, 23.0, 94.0, 28.1, 0.167, 21.0, 0.0], \n",
    "        [0.0, 137.0, 40.0, 35.0, 168.0, 43.1, 2.288, 33.0, 1.0], \n",
    "        [5.0, 116.0, 74.0, 0.0, 0.0, 25.6, 0.201, 30.0, 0.0], \n",
    "        [3.0, 78.0, 50.0, 32.0, 88.0, 31.0, 0.248, 26.0, 1.0]]\n",
    "class_data = classify_data(data)\n",
    "print('Classified instances (dummy data): {0}').format(class_data) \n",
    "print '-'*30\n",
    "class_data = classify_data(train_set[:10]) # print small portion\n",
    "print('Classified instances (real data): {0}').format(class_data) "
   ]
  },
  {
   "cell_type": "code",
   "execution_count": 189,
   "metadata": {},
   "outputs": [
    {
     "name": "stdout",
     "output_type": "stream",
     "text": [
      "Attributes: [4.0, 189.0, 110.0, 31.0, 0.0, 28.5, 0.68, 37.0], summary: mean=44.4644444444, stdev=64.4068426316\n",
      "Attributes: [0.0, 94.0, 70.0, 27.0, 115.0, 43.5, 0.347, 21.0], summary: mean=41.2052222222, stdev=42.9280464317\n",
      "Attributes: [7.0, 187.0, 50.0, 33.0, 392.0, 33.9, 0.826, 34.0], summary: mean=82.0806666667, stdev=129.394150617\n",
      "Attributes: [3.0, 126.0, 88.0, 41.0, 235.0, 39.3, 0.704, 27.0], summary: mean=62.2226666667, stdev=77.4306491255\n",
      "Attributes: [4.0, 147.0, 74.0, 25.0, 293.0, 34.9, 0.385, 30.0], summary: mean=67.5872222222, stdev=96.5536539673\n",
      "Attributes: [0.0, 135.0, 94.0, 46.0, 145.0, 40.6, 0.284, 26.0], summary: mean=54.0982222222, stdev=57.2132871669\n",
      "Attributes: [4.0, 109.0, 64.0, 44.0, 99.0, 34.8, 0.905, 26.0], summary: mean=42.5227777778, stdev=40.8429604638\n",
      "Attributes: [4.0, 136.0, 70.0, 0.0, 0.0, 31.2, 1.182, 22.0], summary: mean=29.4868888889, stdev=46.1607890651\n",
      "Attributes: [2.0, 109.0, 92.0, 0.0, 0.0, 42.7, 0.845, 54.0], summary: mean=33.3938888889, stdev=43.3771796122\n",
      "Attributes: [2.0, 107.0, 74.0, 30.0, 100.0, 33.6, 0.404, 23.0], summary: mean=41.1115555556, stdev=42.2428739763\n"
     ]
    }
   ],
   "source": [
    "\"\"\"Here are estimation tools, the mean and the standard deviation\"\"\"\n",
    "def mean(enteries):\n",
    "    enteries = enteries#[:-1]\n",
    "    mean = sum(enteries)/float(len(enteries))\n",
    "    #print mean\n",
    "    \n",
    "    return mean\n",
    "\n",
    "def stdev(enteries):\n",
    "    enteries = enteries#[:-1]\n",
    "    _mean = mean(enteries)\n",
    "    variance = sum([pow(x-_mean,2) for x in enteries])/float(len(enteries)-1)\n",
    "    _stdev = math.sqrt(variance)\n",
    "    \n",
    "    return _stdev\n",
    "\n",
    "# Do the test on real data\n",
    "for i in train_set[:10]: \n",
    "    print('Attributes: {0}, summary: mean={1}, stdev={2}').format(i[:-1], mean(i), stdev(i))"
   ]
  },
  {
   "cell_type": "code",
   "execution_count": 190,
   "metadata": {},
   "outputs": [
    {
     "name": "stdout",
     "output_type": "stream",
     "text": [
      "Attribute summaries: [(3.7662835249042144, 3.3409822449270914), (121.8103448275862, 32.83426140411571), (68.7375478927203, 19.867171392978168), (20.38314176245211, 16.494131548009765), (77.55172413793103, 107.5012752988519), (32.19176245210726, 8.305943872050353), (0.48552681992337127, 0.3460034563320237), (32.7816091954023, 11.121480956793237)]\n"
     ]
    }
   ],
   "source": [
    "\"\"\" Let's put the training data, after measuring the mean and standard deviation, into summary class, such that we \n",
    "will have [(mean_1, stdev_1), ... (mean_n, stdev_n)]\"\"\"\n",
    "def summary_data(dataset):\n",
    "    summary = [(mean(attribute), stdev(attribute)) for attribute in zip(*dataset)]\n",
    "    del summary[-1]\n",
    "    \n",
    "    return summary\n",
    "\n",
    "# Test it:\n",
    "summary = summary_data(train_set)\n",
    "print('Attribute summaries: {0}').format(summary)"
   ]
  },
  {
   "cell_type": "code",
   "execution_count": 191,
   "metadata": {
    "scrolled": true
   },
   "outputs": [
    {
     "name": "stdout",
     "output_type": "stream",
     "text": [
      "Data sorted by class value: {0.0: [(3.2271386430678466, 2.949029689226637), (110.24188790560471, 26.761944476530694), (67.45132743362832, 18.73514771938097), (19.20353982300885, 15.111905623533811), (66.33038348082596, 90.01671437578825), (30.26312684365783, 7.943854214405065), (0.4464513274336284, 0.3133357366573049), (30.61061946902655, 10.94047933486743)], 1.0: [(4.7650273224043715, 3.77593316816627), (143.24043715846994, 32.327090395428655), (71.12021857923497, 21.66190701061604), (22.56830601092896, 18.635735518713098), (98.33879781420765, 131.7750955004444), (35.764480874316945, 7.780243762136156), (0.5579125683060112, 0.3902112882228733), (36.80327868852459, 10.331568509788598)]}\n"
     ]
    }
   ],
   "source": [
    "\"\"\" separat the training dataset into instances grouped by class, \n",
    "then calculate the summaries (which decrib the mean and stdev, from above fucntion) for each attribute\n",
    "this should give {class: (mean, stdev)} such that: \n",
    "{0: [(m1, st1), (m2, st2), ...], 1: [(m1, st1), (m2, st2), ...]}\n",
    "\"\"\"\n",
    "def sort_data(dataset):\n",
    "    separated = classify_data(dataset)\n",
    "    classes = {}\n",
    "    for classValue, instances in separated.iteritems():\n",
    "        classes[classValue] = summary_data(instances)\n",
    "    \n",
    "    return classes\n",
    "\n",
    "sorted_data = sort_data(train_set)\n",
    "print('Data sorted by class value: {0}').format(sorted_data)"
   ]
  },
  {
   "cell_type": "markdown",
   "metadata": {},
   "source": [
    "### Predict\n",
    "\n",
    "All that being given, we are now ready to carry our predictions using the training set. The process is now simple, we just need to allow for this scenario: calculate the probability that a given set of attributes will belong to a specific class, then we mark the class with the highest probability scor as our prediction.\n",
    "* In steps:\n",
    "    *  Calculate Gaussian Probability Density Function per class:  $\\begin{equation}\n",
    "f(x | \\mu, \\sigma^2) = \\frac{1}{\\sqrt{\\pi\\sigma^2}} e^{\\frac{(x-\\mu)^2}{2\\sigma^2}}\n",
    "\\end{equation}$\n",
    "    * Calculate all the probabilities for all classes\n",
    "    * Predict\n",
    "    * Measure the model accuracy"
   ]
  },
  {
   "cell_type": "code",
   "execution_count": 174,
   "metadata": {},
   "outputs": [
    {
     "name": "stdout",
     "output_type": "stream",
     "text": [
      "Probability of a class: 6.24896575937%\n"
     ]
    }
   ],
   "source": [
    "def gaussian_estimator(x, mean, stdev):\n",
    "    base = math.exp(-(math.pow(x-mean,2)/(2*math.pow(stdev,2))))\n",
    "    estimator = (1 / (math.sqrt(2*math.pi) * stdev)) * base\n",
    "    \n",
    "    return estimator\n",
    "\n",
    "\n",
    "x = 71.5\n",
    "mean = 73\n",
    "stdev = 6.2\n",
    "probability = gaussian_estimator(x, mean, stdev)\n",
    "print(r'Probability of a class: {}%').format(probability*100)"
   ]
  },
  {
   "cell_type": "code",
   "execution_count": 170,
   "metadata": {},
   "outputs": [
    {
     "name": "stdout",
     "output_type": "stream",
     "text": [
      "Attribute's probability: {0.0: 1.533497250704814e-61, 1.0: 1.2553324910582577e-07}\n",
      "Attribute's probability: {0.0: 2.833001729644838e-11, 1.0: 6.175116937276354e-08}\n",
      "Attribute's probability: {0.0: 0.0, 1.0: 0.0}\n",
      "Attribute's probability: {0.0: 1.4525505077438077e-10, 1.0: 2.596587773275098e-09}\n",
      "Attribute's probability: {0.0: 2.1133493035681783e+114, 1.0: 5.407311340332201e+67}\n",
      "Attribute's probability: {0.0: 1.880145430461084e-11, 1.0: 7.374573905358729e-11}\n",
      "Attribute's probability: {0.0: 1.3394399602778206e-11, 1.0: 7.835960809781692e-12}\n",
      "Attribute's probability: {0.0: 8.504505891331194e-27, 1.0: 3.8029793078450343e-13}\n",
      "Attribute's probability: {0.0: 4.877069692184557e-14, 1.0: 2.976436785203724e-11}\n",
      "Attribute's probability: {0.0: 2.4949984065965333e-11, 1.0: 2.7747234981821294e-05}\n"
     ]
    }
   ],
   "source": [
    "def class_probability(train, test):\n",
    "    probabilities = {}\n",
    "    for target, vector in train.iteritems():\n",
    "        probabilities[target] = 1 # we need to have initial value here.\n",
    "        for i in range(len(vector)):\n",
    "            mean, stdev = vector[i]\n",
    "            x = test[i]\n",
    "            probabilities[target] *= gaussian_estimator(x, mean, stdev)\n",
    "            \n",
    "    return probabilities\n",
    "\n",
    "# Let's put our probability calculator for a test \n",
    "for i in range(len(test_set[:10])):\n",
    "    probabilities = class_probability(sorted_data, test_set[i])\n",
    "    print(\"Attribute's probability: {0}\" ).format(probabilities)"
   ]
  },
  {
   "cell_type": "code",
   "execution_count": 182,
   "metadata": {},
   "outputs": [
    {
     "name": "stdout",
     "output_type": "stream",
     "text": [
      "['A', 'B']\n",
      "Predictions: ['A', 'B']\n",
      "------------------------------\n",
      "[0.0, 0.0, 0.0, 0.0]\n",
      "Predictions: [0.0, 0.0, 0.0, 0.0]\n",
      "------------------------------\n",
      "------------------------------\n",
      "[1.0, 0.0, 1.0, 0.0, 1.0, 0.0, 0.0, 1.0, 1.0, 0.0]\n",
      "Predictions (real data): [1.0, 0.0, 1.0, 0.0, 1.0, 0.0, 0.0, 1.0, 1.0, 0.0]\n"
     ]
    }
   ],
   "source": [
    "def predict(train_set, test_set):\n",
    "    predictions = []\n",
    "    for i in range(len(test_set)):\n",
    "        probabilities = class_probability(train_set, test_set[i])\n",
    "        _class, _prob = None, -1\n",
    "        for Class, probability in probabilities.iteritems():\n",
    "            if _class is None or probability > _prob:\n",
    "                _prob = probability\n",
    "                _class = Class\n",
    "        predictions.append(_class)\n",
    "        \n",
    "    print predictions\n",
    "    return predictions\n",
    "\n",
    "\n",
    "train = {'A':[(1, 0.5)], 'B':[(20, 5.0)]}\n",
    "test = [[1.1, '?'], [19.1, '?']]\n",
    "predictions = predict(train, test)\n",
    "print('Predictions: {0}').format(predictions)\n",
    "print'-'*30\n",
    "\n",
    "#train_set = sort_data(train_set)\n",
    "test = [[1.0, 85.0, 66.0, 29.0, 0.0, 26.6, 0.351, 31.0,'?'],\n",
    "            [6.0, 148.0, 72.0, 35.0, 0.0, 33.6, 0.627, 50.0, '?'], \n",
    "        [5.0, 116.0, 74.0, 0.0, 0.0, 25.6, 0.201, 30.0, '?'], \n",
    "        [3.0, 78.0, 50.0, 32.0, 88.0, 31.0, 0.248, 26.0, '?']]\n",
    "predictions = predict(sorted_data, test)\n",
    "print('Predictions: {0}').format(predictions)\n",
    "print'-'*30\n",
    "\n",
    "# Change the '0,1' class to different labels 'A,B' and see if our predictions will also change:\n",
    "# sorted_data.update(train)\n",
    "# predictions = predict(sorted_data, test_set)\n",
    "# print('Predictions, updated: {0}').format(predictions)\n",
    "\n",
    "print '-'*30\n",
    "# Let's test the real data\n",
    "#train_set, test_set = split_data(dataset, 0.69)\n",
    "#training = sort_data(train_set[:10])\n",
    "predictions = predict(sorted_data, test_set[:10])\n",
    "print('Predictions (real data): {0}').format(predictions)"
   ]
  },
  {
   "cell_type": "markdown",
   "metadata": {},
   "source": [
    "###  Calculate the accuracy\n"
   ]
  },
  {
   "cell_type": "code",
   "execution_count": 176,
   "metadata": {},
   "outputs": [
    {
     "name": "stdout",
     "output_type": "stream",
     "text": [
      "Accuracy of our model reads: 76.8292682927\n",
      "---------------------------------------------\n"
     ]
    },
    {
     "data": {
      "image/png": "[encoded data removed]",
      "text/plain": [
       "<matplotlib.figure.Figure at 0x11ba25390>"
      ]
     },
     "metadata": {},
     "output_type": "display_data"
    }
   ],
   "source": [
    "%matplotlib inline\n",
    "def accuracy(test_set, predictions):\n",
    "    correct = 0\n",
    "    for x in range(len(test_set)):\n",
    "        if test_set[x][-1] == predictions[x]:\n",
    "            correct += 1\n",
    "    accurate = (correct/float(len(test_set))) * 100.0\n",
    "    \n",
    "    return accurate\n",
    "\n",
    "#train_set, test_set = split_data(dataset, 0.69)\n",
    "#print test_set[:10]\n",
    "#training = sort_data(train_set)\n",
    "\n",
    "predictions = predict(sorted_data, test_set)\n",
    "accuracy = accuracy(test_set, predictions)\n",
    "print('Accuracy of our model reads: {0}').format(accuracy)\n",
    "print '-'*45\n",
    "\n",
    "#------------------------ Plotting:\n",
    "p_samples = Series(predictions)\n",
    "p_counts = p_samples.value_counts()\n",
    "t_sample = [item[-1] for item in test_set]\n",
    "t_samples = Series(t_sample[:len(predictions)])\n",
    "t_counts = t_samples.value_counts()\n",
    "\n",
    "f, ax = plt.subplots(1, figsize=(10,7))\n",
    "bar_width = 0.5\n",
    "ind = range(len(p_counts))\n",
    "tick_pos = [i+(bar_width/2) for i in ind]\n",
    "\n",
    "ax.bar(ind, p_counts, width=bar_width, label='Our model', alpha=0.5, color='blue')\n",
    "ax.bar(ind, t_counts, width=bar_width, label='Real', alpha=0.5, color='green')\n",
    "\n",
    "# Set the label and legends\n",
    "ax.set_ylabel(\"Total counts\", fontsize=15)\n",
    "ax.set_xlabel(\"Test Class\", fontsize=15)\n",
    "ax.set_axis_bgcolor('white')\n",
    "\n",
    "plt.legend(loc='upper right')\n",
    "plt.xticks(tick_pos, ['Negative', 'Positive'])\n",
    "plt.title('Comparing diabetes real classes counts to our model prediction', fontsize=17)\n",
    "# Set a buffer around the edge\n",
    "plt.xlim([min(tick_pos)-bar_width, max(tick_pos)+bar_width])\n",
    "plt.show()"
   ]
  },
  {
   "cell_type": "code",
   "execution_count": 197,
   "metadata": {},
   "outputs": [
    {
     "name": "stdout",
     "output_type": "stream",
     "text": [
      "accuracy generated by our model: 76.8292682927%\n",
      "accuracy generated by scikit-learn: 74.9521988528%\n",
      "---------------------------------------------\n",
      "scikit-learn model score:  0.548757170172\n",
      "our model score:  0.5\n",
      "---------------------------------------------\n"
     ]
    },
    {
     "data": {
      "image/png": "[encoded data removed]",
      "text/plain": [
       "<matplotlib.figure.Figure at 0x116f10e10>"
      ]
     },
     "metadata": {},
     "output_type": "display_data"
    }
   ],
   "source": [
    "from sklearn.cross_validation import train_test_split\n",
    "from sklearn.naive_bayes import GaussianNB\n",
    "from sklearn.metrics import accuracy_score\n",
    "\n",
    "def scikit_Gaussian(data, split_ratio):\n",
    "    features = [item[:-1] for item in data]\n",
    "    target = [item[-1] for item in data]\n",
    "    features_train, features_test, target_train, target_test = train_test_split(\n",
    "        features, target, \n",
    "        test_size = split_ratio, \n",
    "        random_state = 10)  \n",
    "\n",
    "    #print len(features_train), len(features_test), len(target_train), len(target_test)\n",
    "\n",
    "    classfier = GaussianNB()\n",
    "    classfier.fit(features_train, target_train)\n",
    "    prediction = classfier.predict(features_test)\n",
    "    \n",
    "    accuracy = accuracy_score(target_test, prediction, normalize = True)\n",
    "    print 'accuracy generated by scikit-learn: {}%'.format(accuracy * 100)\n",
    "    \n",
    "    return accuracy, prediction\n",
    "\n",
    "    # predictions = predict(training, test_set)\n",
    "    # accuracy = accuracy(test_set, predictions)\n",
    "print('accuracy generated by our model: {0}%').format(accuracy)\n",
    "sci_accuracy, target_pred = scikit_Gaussian(dataset, split_ratio)\n",
    "real = []\n",
    "for i in test_set:\n",
    "    for j in range(len(i)):\n",
    "        x = i[-1]\n",
    "        real.append(x)\n",
    "print '-'*45 \n",
    "print 'scikit-learn model score: ', accuracy_score(real[:len(target_pred)], target_pred)\n",
    "print 'our model score: ', accuracy_score(real[:len(predictions)], predictions)\n",
    "print '-'*45\n",
    "\n",
    "#------------------------ Plotting:\n",
    "p_samples = Series(target_pred)\n",
    "p_counts = p_samples.value_counts()\n",
    "#t_sample = [item[-1] for item in target]\n",
    "t_samples = Series(target[-len(target_pred):])\n",
    "t_counts = t_samples.value_counts()\n",
    "\n",
    "# print len(p_samples), len(target[-len(target_pred):])\n",
    "# print target\n",
    "\n",
    "f, ax = plt.subplots(1, figsize=(10,7))\n",
    "bar_width = 0.5\n",
    "tick_pos = [i+(bar_width/2) for i in ind]\n",
    "\n",
    "ax.bar(ind, p_counts, width=bar_width, label='scikit-learn model', alpha=0.5, color='blue')\n",
    "ax.bar(ind, t_counts, width=bar_width, label='Real', alpha=0.5, color='green')\n",
    "\n",
    "# Set the label and legends\n",
    "ax.set_ylabel(\"Total counts\", fontsize=15)\n",
    "ax.set_xlabel(\"Test Class\", fontsize=15)\n",
    "ax.set_axis_bgcolor('white')\n",
    "\n",
    "plt.legend(loc='upper right')\n",
    "plt.xticks(tick_pos, ['Negative', 'Positive'])\n",
    "plt.title('Comparing diabetes real classes counts to scikit-learn model prediction', fontsize=17)\n",
    "# Set a buffer around the edge\n",
    "plt.xlim([min(tick_pos)-bar_width, max(tick_pos)+bar_width])\n",
    "plt.show()"
   ]
  },
  {
   "cell_type": "code",
   "execution_count": null,
   "metadata": {},
   "outputs": [],
   "source": []
  },
  {
   "cell_type": "code",
   "execution_count": null,
   "metadata": {
    "collapsed": true
   },
   "outputs": [],
   "source": []
  }
 ],
 "metadata": {
  "kernelspec": {
   "display_name": "Python 2",
   "language": "python",
   "name": "python2"
  },
  "language_info": {
   "codemirror_mode": {
    "name": "ipython",
    "version": 2
   },
   "file_extension": ".py",
   "mimetype": "text/x-python",
   "name": "python",
   "nbconvert_exporter": "python",
   "pygments_lexer": "ipython2",
   "version": "2.7.13"
  }
 },
 "nbformat": 4,
 "nbformat_minor": 2
}
