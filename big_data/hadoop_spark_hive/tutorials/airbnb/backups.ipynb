{
 "cells": [
  {
   "cell_type": "code",
   "execution_count": 1,
   "metadata": {},
   "outputs": [
    {
     "ename": "NameError",
     "evalue": "name 'StructType' is not defined",
     "output_type": "error",
     "traceback": [
      "\u001b[0;31m---------------------------------------------------------------------------\u001b[0m",
      "\u001b[0;31mNameError\u001b[0m                                 Traceback (most recent call last)",
      "\u001b[0;32m<ipython-input-1-9b8b23223496>\u001b[0m in \u001b[0;36m<module>\u001b[0;34m()\u001b[0m\n\u001b[0;32m----> 1\u001b[0;31m schemaa = StructType([StructField(\"state\", StringType(), True),\n\u001b[0m\u001b[1;32m      2\u001b[0m              \u001b[0mStructField\u001b[0m\u001b[0;34m(\u001b[0m\u001b[0;34m\"account_length\"\u001b[0m\u001b[0;34m,\u001b[0m \u001b[0mDoubleType\u001b[0m\u001b[0;34m(\u001b[0m\u001b[0;34m)\u001b[0m\u001b[0;34m,\u001b[0m \u001b[0mTrue\u001b[0m\u001b[0;34m)\u001b[0m\u001b[0;34m,\u001b[0m\u001b[0;34m\u001b[0m\u001b[0m\n\u001b[1;32m      3\u001b[0m              \u001b[0mStructField\u001b[0m\u001b[0;34m(\u001b[0m\u001b[0;34m\"area_code\"\u001b[0m\u001b[0;34m,\u001b[0m \u001b[0mStringType\u001b[0m\u001b[0;34m(\u001b[0m\u001b[0;34m)\u001b[0m\u001b[0;34m,\u001b[0m \u001b[0mTrue\u001b[0m\u001b[0;34m)\u001b[0m\u001b[0;34m,\u001b[0m\u001b[0;34m\u001b[0m\u001b[0m\n\u001b[1;32m      4\u001b[0m              \u001b[0mStructField\u001b[0m\u001b[0;34m(\u001b[0m\u001b[0;34m\"phone_number\"\u001b[0m\u001b[0;34m,\u001b[0m \u001b[0mStringType\u001b[0m\u001b[0;34m(\u001b[0m\u001b[0;34m)\u001b[0m\u001b[0;34m,\u001b[0m \u001b[0mTrue\u001b[0m\u001b[0;34m)\u001b[0m\u001b[0;34m,\u001b[0m\u001b[0;34m\u001b[0m\u001b[0m\n\u001b[1;32m      5\u001b[0m              \u001b[0mStructField\u001b[0m\u001b[0;34m(\u001b[0m\u001b[0;34m\"international_plan\"\u001b[0m\u001b[0;34m,\u001b[0m \u001b[0mStringType\u001b[0m\u001b[0;34m(\u001b[0m\u001b[0;34m)\u001b[0m\u001b[0;34m,\u001b[0m \u001b[0mTrue\u001b[0m\u001b[0;34m)\u001b[0m\u001b[0;34m,\u001b[0m\u001b[0;34m\u001b[0m\u001b[0m\n",
      "\u001b[0;31mNameError\u001b[0m: name 'StructType' is not defined"
     ]
    }
   ],
   "source": [
    "        schemaa = StructType([StructField(\"state\", StringType(), True),\n",
    "                     StructField(\"account_length\", DoubleType(), True),\n",
    "                     StructField(\"area_code\", StringType(), True),\n",
    "                     StructField(\"phone_number\", StringType(), True),\n",
    "                     StructField(\"international_plan\", StringType(), True),\n",
    "                     StructField(\"voice_mail_plan\", StringType(), True),\n",
    "                     StructField(\"number_vmail_messages\", DoubleType(), True),\n",
    "                     StructField(\"total_day_minutes\", DoubleType(), True),\n",
    "                     StructField(\"total_day_calls\", DoubleType(), True),\n",
    "                     StructField(\"total_day_charge\", DoubleType(), True),\n",
    "                     StructField(\"total_eve_minutes\", DoubleType(), True),\n",
    "                     StructField(\"total_eve_calls\", DoubleType(), True),\n",
    "                     StructField(\"total_eve_charge\", DoubleType(), True),\n",
    "                     StructField(\"total_night_minutes\", DoubleType(), True),\n",
    "                     StructField(\"total_night_calls\", DoubleType(), True),\n",
    "                     StructField(\"total_night_charge\", DoubleType(), True),\n",
    "                     StructField(\"total_intl_minutes\", DoubleType(), True),\n",
    "                     StructField(\"total_intl_calls\", DoubleType(), True),\n",
    "                     StructField(\"total_intl_charge\", DoubleType(), True),\n",
    "                     StructField(\"number_customer_service_calls\", DoubleType(), True),\n",
    "                     StructField(\"churned\", StringType(), True)])\n",
    "        print schemaa"
   ]
  },
  {
   "cell_type": "code",
   "execution_count": null,
   "metadata": {
    "collapsed": true
   },
   "outputs": [],
   "source": [
    "# Construct the schema from the header \n",
    ">>> header = taxiFile.first()\n",
    ">>> header\n",
    "u'\"_id\",\"_rev\",\"dropoff_datetime\",\"dropoff_latitude\",\"dropoff_longitude\",\"hack_license\",\"medallion\",\"passenger_count\",\"pickup_datetime\",\"pickup_latitude\",\"pickup_longitude\",\"rate_code\",\"store_and_fwd_flag\",\"trip_distance\",\"trip_time_in_secs\",\"vendor_id\"'\n",
    ">>> schemaString = header.replace('\"','')  # get rid of the double-quotes\n",
    ">>> schemaString\n",
    "u'_id,_rev,dropoff_datetime,dropoff_latitude,dropoff_longitude,hack_license,medallion,passenger_count,pickup_datetime,pickup_latitude,pickup_longitude,rate_code,store_and_fwd_flag,trip_distance,trip_time_in_secs,vendor_id'\n",
    ">>> fields = [StructField(field_name, StringType(), True) for field_name in schemaString.split(',')]\n",
    ">>> schema = StructType(fields)\n",
    "\n",
    "# Subtract header and use the above-constructed schema:\n",
    ">>> taxiHeader = taxiFile.filter(lambda l: \"_id\" in l) # taxiHeader needs to be an RDD - the string we constructed above will not do the job\n",
    ">>> taxiHeader.collect() # for inspection purposes only\n",
    "[u'\"_id\",\"_rev\",\"dropoff_datetime\",\"dropoff_latitude\",\"dropoff_longitude\",\"hack_license\",\"medallion\",\"passenger_count\",\"pickup_datetime\",\"pickup_latitude\",\"pickup_longitude\",\"rate_code\",\"store_and_fwd_flag\",\"trip_distance\",\"trip_time_in_secs\",\"vendor_id\"']\n",
    ">>> taxiNoHeader = taxiFile.subtract(taxiHeader)\n",
    ">>> taxi_df = taxiNoHeader.toDF(schema)  # Spark dataframe\n",
    ">>> import pandas as pd\n",
    ">>> taxi_DF = taxi_df.toPandas()  # pandas dataframe"
   ]
  },
  {
   "cell_type": "code",
   "execution_count": null,
   "metadata": {
    "collapsed": true
   },
   "outputs": [],
   "source": [
    "conf = (SparkConf()\n",
    "           .setAppName(\"experiment-airbnb\")\n",
    "           .set(\"spark.executor.instances\", \"10\")\n",
    "           .set(\"spark.executor.cores\", 2)\n",
    "           .set(\"spark.dynamicAllocation.enabled\", \"false\")\n",
    "           .set(\"spark.shuffle.service.enabled\", \"false\")\n",
    "           .set(\"spark.executor.memory\", \"500MB\"))\n",
    "sc = SparkContext.getOrCreate(conf = conf)\n",
    "\n",
    "spark = SparkSession.builder \\\n",
    "            .master(\"yarn\") \\\n",
    "            .appName(\"experiment-airbnb\") \\\n",
    "            .enableHiveSupport()\\\n",
    "            .getOrCreate()\n",
    "\n",
    "#spark = SparkSession.builder.master(\"local\").appName(\"Word Count\").config(conf).getOrCreate()\n",
    "print spark\n",
    "# \"spark.some.config.option\", \"some-value\""
   ]
  },
  {
   "cell_type": "code",
   "execution_count": null,
   "metadata": {
    "collapsed": true
   },
   "outputs": [],
   "source": [
    "    with open(sample) as sample_file:\n",
    "        for line in islice(sample_file, 3, 4):\n",
    "            _keys.append(line.split(','))\n",
    "        sample_file.close()"
   ]
  },
  {
   "cell_type": "code",
   "execution_count": null,
   "metadata": {
    "collapsed": true
   },
   "outputs": [],
   "source": []
  },
  {
   "cell_type": "code",
   "execution_count": null,
   "metadata": {
    "collapsed": true
   },
   "outputs": [],
   "source": []
  },
  {
   "cell_type": "code",
   "execution_count": null,
   "metadata": {
    "collapsed": true
   },
   "outputs": [],
   "source": []
  }
 ],
 "metadata": {
  "kernelspec": {
   "display_name": "Python 2",
   "language": "python",
   "name": "python2"
  },
  "language_info": {
   "codemirror_mode": {
    "name": "ipython",
    "version": 2
   },
   "file_extension": ".py",
   "mimetype": "text/x-python",
   "name": "python",
   "nbconvert_exporter": "python",
   "pygments_lexer": "ipython2",
   "version": "2.7.13"
  }
 },
 "nbformat": 4,
 "nbformat_minor": 2
}
