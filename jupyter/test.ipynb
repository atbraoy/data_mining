{
 "cells": [
  {
   "cell_type": "code",
   "execution_count": 3,
   "metadata": {},
   "outputs": [],
   "source": [
    "import os, sys\n",
    "#os.chdir(os.path.dirname('/Telestra_project/jupyter'))"
   ]
  },
  {
   "cell_type": "code",
   "execution_count": 13,
   "metadata": {},
   "outputs": [
    {
     "ename": "OSError",
     "evalue": "[Errno 2] No such file or directory: '/Telestra_project/'",
     "output_type": "error",
     "traceback": [
      "\u001b[0;31m---------------------------------------------------------------------------\u001b[0m",
      "\u001b[0;31mOSError\u001b[0m                                   Traceback (most recent call last)",
      "\u001b[0;32m<ipython-input-13-182f3f4c3636>\u001b[0m in \u001b[0;36m<module>\u001b[0;34m()\u001b[0m\n\u001b[0;32m----> 1\u001b[0;31m \u001b[0mos\u001b[0m\u001b[0;34m.\u001b[0m\u001b[0mchdir\u001b[0m\u001b[0;34m(\u001b[0m\u001b[0;34m\"/Telestra_project/\"\u001b[0m\u001b[0;34m)\u001b[0m\u001b[0;34m\u001b[0m\u001b[0m\n\u001b[0m\u001b[1;32m      2\u001b[0m \u001b[0;32mprint\u001b[0m \u001b[0mos\u001b[0m\u001b[0;34m.\u001b[0m\u001b[0mpath\u001b[0m\u001b[0;34m.\u001b[0m\u001b[0mabspath\u001b[0m\u001b[0;34m(\u001b[0m\u001b[0mos\u001b[0m\u001b[0;34m.\u001b[0m\u001b[0mcurdir\u001b[0m\u001b[0;34m)\u001b[0m\u001b[0;34m\u001b[0m\u001b[0m\n",
      "\u001b[0;31mOSError\u001b[0m: [Errno 2] No such file or directory: '/Telestra_project/'"
     ]
    }
   ],
   "source": [
    "os.chdir(\"/Telestra_project/\")\n",
    "print os.path.abspath(os.curdir)\n"
   ]
  },
  {
   "cell_type": "code",
   "execution_count": 2,
   "metadata": {},
   "outputs": [
    {
     "data": {
      "text/plain": [
       "u'/Users/Ahmed/Documents/DataMining_II/QxBranch/Telestra_project/jupyter'"
      ]
     },
     "execution_count": 2,
     "metadata": {},
     "output_type": "execute_result"
    }
   ],
   "source": [
    "pwd"
   ]
  },
  {
   "cell_type": "code",
   "execution_count": 11,
   "metadata": {},
   "outputs": [
    {
     "name": "stdout",
     "output_type": "stream",
     "text": [
      "/Users/Ahmed/Documents/DataMining_II/QxBranch/Telestra_project/jupyter\n",
      "/Users/Ahmed/Documents/DataMining_II/QxBranch/Telestra_project\n",
      "/Users/Ahmed/Documents/DataMining_II/QxBranch/Telestra_project/jupyter\n"
     ]
    }
   ],
   "source": [
    "os.chdir(os.path.abspath(os.curdir))#+\"/jupyter/\")\n",
    "print os.path.abspath(os.curdir)\n",
    "os.chdir(\"..\")\n",
    "print os.path.abspath(os.curdir)\n",
    "os.chdir(os.path.abspath(os.curdir)+\"/jupyter/\")\n",
    "print os.path.abspath(os.curdir)"
   ]
  },
  {
   "cell_type": "code",
   "execution_count": 7,
   "metadata": {},
   "outputs": [
    {
     "data": {
      "text/plain": [
       "u'/Users/Ahmed/Documents/DataMining_II/QxBranch/Telestra_project/jupyter'"
      ]
     },
     "execution_count": 7,
     "metadata": {},
     "output_type": "execute_result"
    }
   ],
   "source": [
    "pwd"
   ]
  },
  {
   "cell_type": "code",
   "execution_count": 13,
   "metadata": {},
   "outputs": [
    {
     "name": "stdout",
     "output_type": "stream",
     "text": [
      "/Users/Ahmed/Documents/DataMining_II/QxBranch/Telestra_project/jupyter\n",
      "/Users/Ahmed/Documents/DataMining_II/QxBranch/Telestra_project\n",
      "/Users/Ahmed/Documents/DataMining_II/QxBranch/Telestra_project/data\n"
     ]
    }
   ],
   "source": [
    "os.chdir(os.path.abspath(os.curdir))#+\"/jupyter/\")\n",
    "print os.path.abspath(os.curdir)\n",
    "os.chdir(\"..\")\n",
    "print os.path.abspath(os.curdir)\n",
    "os.chdir(os.path.abspath(os.curdir)+\"/data/\")\n",
    "print os.path.abspath(os.curdir)\n",
    "os.chdir(\"..\")\n",
    "os.chdir(os.path.abspath(os.curdir)+\"/jupyter/\")"
   ]
  },
  {
   "cell_type": "code",
   "execution_count": null,
   "metadata": {
    "collapsed": true
   },
   "outputs": [],
   "source": []
  }
 ],
 "metadata": {
  "kernelspec": {
   "display_name": "Python 2",
   "language": "python",
   "name": "python2"
  }
 },
 "nbformat": 4,
 "nbformat_minor": 2
}
